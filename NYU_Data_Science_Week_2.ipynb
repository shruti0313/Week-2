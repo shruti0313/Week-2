{
  "nbformat": 4,
  "nbformat_minor": 0,
  "metadata": {
    "colab": {
      "provenance": []
    },
    "kernelspec": {
      "name": "python3",
      "display_name": "Python 3"
    },
    "language_info": {
      "name": "python"
    }
  },
  "cells": [
    {
      "cell_type": "markdown",
      "source": [
        "1) From df filter the 'Manufacturer', 'Model' and 'Type' for every 20th row starting from 1st (row 0). df = pd.read_csv('https://raw.githubusercontent.com/selva86/datasets/master/Cars93_miss.csv')"
      ],
      "metadata": {
        "id": "silRsJCqjGrc"
      }
    },
    {
      "cell_type": "code",
      "execution_count": 7,
      "metadata": {
        "colab": {
          "base_uri": "https://localhost:8080/"
        },
        "id": "ENsUB2yWcJyZ",
        "outputId": "f2cf5893-2851-4877-a83b-c9f69dd1926f"
      },
      "outputs": [
        {
          "output_type": "stream",
          "name": "stdout",
          "text": [
            "   Manufacturer    Model     Type\n",
            "0         Acura  Integra    Small\n",
            "20     Chrysler  LeBaron  Compact\n",
            "40        Honda  Prelude   Sporty\n",
            "60      Mercury   Cougar  Midsize\n",
            "80       Subaru   Loyale    Small\n"
          ]
        }
      ],
      "source": [
        "import numpy as np\n",
        "import pandas as pd\n",
        "\n",
        "df = pd.read_csv('https://raw.githubusercontent.com/selva86/datasets/master/Cars93_miss.csv')\n",
        "print(df.iloc[::20, :][['Manufacturer', 'Model', 'Type']])"
      ]
    },
    {
      "cell_type": "markdown",
      "source": [
        "2) Replace missing values in Min.Price and Max.Price columns with their respective mean (check documentation).\n",
        "df = pd.read_csv('https://raw.githubusercontent.com/selva86/datasets/master/Cars93_miss.csv')"
      ],
      "metadata": {
        "id": "tO6tIjcpjUf5"
      }
    },
    {
      "cell_type": "code",
      "source": [
        "import numpy as np\n",
        "import pandas as pd\n",
        "\n",
        "df = pd.read_csv('https://raw.githubusercontent.com/selva86/datasets/master/Cars93_miss.csv')\n",
        "df_out = df[['Min.Price', 'Max.Price']] = df[['Min.Price', 'Max.Price']].apply(lambda x: x.fillna(x.mean()))\n",
        "print(df_out.head())"
      ],
      "metadata": {
        "colab": {
          "base_uri": "https://localhost:8080/"
        },
        "id": "AVbpvK6xdCWj",
        "outputId": "14ad2559-bc78-495b-d1c9-81a15f5c62df"
      },
      "execution_count": 8,
      "outputs": [
        {
          "output_type": "stream",
          "name": "stdout",
          "text": [
            "   Min.Price  Max.Price\n",
            "0  12.900000  18.800000\n",
            "1  29.200000  38.700000\n",
            "2  25.900000  32.300000\n",
            "3  17.118605  44.600000\n",
            "4  17.118605  21.459091\n"
          ]
        }
      ]
    },
    {
      "cell_type": "markdown",
      "source": [
        "3) How to get the rows of a dataframe with row sum > 100?\n",
        "df = pd.DataFrame(np.random.randint(10, 40, 60).reshape(-1, 4))"
      ],
      "metadata": {
        "id": "3YKA-s8njYEJ"
      }
    },
    {
      "cell_type": "code",
      "source": [
        "import numpy as np\n",
        "import pandas as pd\n",
        "df = pd.DataFrame(np.random.randint(10, 40, 60).reshape(-1, 4))\n",
        "rowsums = df.apply(np.sum, axis=1)\n",
        "last_two_rows = df.iloc[np.where(rowsums > 100)[0][-2:], :]\n",
        "print(last_two_rows)"
      ],
      "metadata": {
        "colab": {
          "base_uri": "https://localhost:8080/"
        },
        "id": "Fp1f1ZCVeINp",
        "outputId": "76698ead-e632-416b-8dc9-ee1e3d6158ad"
      },
      "execution_count": 13,
      "outputs": [
        {
          "output_type": "stream",
          "name": "stdout",
          "text": [
            "     0   1   2   3\n",
            "12  39  39  31  13\n",
            "13  27  26  39  24\n"
          ]
        }
      ]
    },
    {
      "cell_type": "markdown",
      "source": [
        "4)Create a 4x4 NumPy array filled with random integers between 1 and 100. Then, reshape this array into two separate 2D arrays, where one represents the rows and the other represents the columns. Write a function, preferably using a lambda function, to calculate the sum of each row and each column separately, and return the results as two separate NumPy arrays"
      ],
      "metadata": {
        "id": "9z15D7i6jbA6"
      }
    },
    {
      "cell_type": "code",
      "source": [
        "import numpy as np\n",
        "rand_int = np.random.randint(1,100,(4,4)) # random numpy array of shape (4,5)\n",
        "print(rand_int)"
      ],
      "metadata": {
        "colab": {
          "base_uri": "https://localhost:8080/"
        },
        "id": "pxSFmk9Pesfe",
        "outputId": "5c39d67a-9f8e-422f-d7f7-0c15cdc2306c"
      },
      "execution_count": 27,
      "outputs": [
        {
          "output_type": "stream",
          "name": "stdout",
          "text": [
            "[[84 96 38 71]\n",
            " [ 6 45 41 93]\n",
            " [90 36 75 76]\n",
            " [64 27 43 42]]\n"
          ]
        }
      ]
    },
    {
      "cell_type": "code",
      "source": [],
      "metadata": {
        "id": "m6bZAf3Cfkml"
      },
      "execution_count": null,
      "outputs": []
    }
  ]
}